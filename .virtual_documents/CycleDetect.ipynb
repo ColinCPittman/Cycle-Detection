


import networkx
import matplotlib.pyplot as plot
import time





class Node:
    def __init__(self, val):
        self.value = val
        self.next = None





class LinkedList:
    def __init__(self):
        self.head = None
        self.size = 0
        
    def generate(self, size, cycle_start_index=None):
        if size <= 0:
            self.head = None
            return

        self.head = Node(0)
        self.size += 1
        current = self.head
        nodes = [self.head]
        
        for i in range(1, size):
            new_node = Node(i)
            current.next = new_node
            current = new_node
            nodes.append(new_node)
            self.size += 1

        if cycle_start_index is not None and 0 <= cycle_start_index < size:
            current.next = nodes[cycle_start_index]

    def print(self):
        current = self.head
        count = 0
        while current and count < self.size + 10:
            print(current.value, end=" -> ")
            current = current.next
            count += 1
        if count >= self.size+10 and current:
            print("Timed out, not completed.")
        else:
            print("Completed")

    def visualize(self):
        graph = networkx.DiGraph()
        current_node = self.head
        nodes = []
        count = 0
        visualization_limit = self.size 
        while current_node and count < visualization_limit+10:
            graph.add_node(current_node.value)
            nodes.append(current_node)
            current_node = current_node.next
            count += 1

        for i in range(len(nodes) - 1):
            if nodes[i+1]:
                graph.add_edge(nodes[i].value, nodes[i+1].value)

        pos = networkx.spring_layout(graph)
        networkx.draw(graph, pos, with_labels=True, node_size=500, node_color="skyblue", font_size=10, font_weight="bold", arrows=True)
        plot.title("Visualization") 
        plot.show()






def detect_cycle(linked_list, verbose=False):
    slow = False
    iterations = 0
    if(linked_list.head == None):
        return("No cycle in empty LinkedList")

    slow_pointer = linked_list.head # tortise
    fast_pointer = linked_list.head # hare

    while fast_pointer is not None and fast_pointer.next is not None:
        if verbose:
            print("Iteration ", iterations)
            iterations += 1
            print("Slow pointer is pointed to node", slow_pointer.value)
            print("    Fast pointer is pointed to node", fast_pointer.value)
            time.sleep(0.1)
            
            if linked_list.size-3 <= fast_pointer.value <= linked_list.size-1:
                slow = True
            
            if slow:
                time.sleep(0.7)
                
        slow_pointer = slow_pointer.next
        fast_pointer = fast_pointer.next.next
        

                
        if slow_pointer == fast_pointer:
            return ("Cycle detected.")
    return("No cylce detected.")





def detect_cycle_timed(linked_list):
    start_time = time.time()
    result = detect_cycle(linked_list)
    end_time = time.time()
    execution_time = end_time - start_time
    
    print(f"Execution time: {execution_time:.8f} seconds for list of size {linked_list.size}")
    return execution_time





def plot_results(x_values, y_values, title="Execution Time of Cycle Detection vs. Linked List Size", xlabel = "Linked List Size (Node count) ", yabel = "Execution Time (seconds)"):
    plot.clf()      # clear the current figure
    plot.cla()      # clear the current axes

    plot.scatter(x_values, y_values, marker='o')
    plot.xlabel(xlabel)
    plot.ylabel(ylabel)
    plot.title(title)
    plot.grid(True)
    plot.show()





def generate_bulk_linked_lists(list_sizes):
    generated_linked_lists = []
    print("Generating linked lists")
    for size in list_sizes:
        print(f"Generating LinkedList of size: {size}")
        new_cycle_list = LinkedList()
        new_cycle_list.generate(size=size, cycle_start_index=5)
        generated_linked_lists.append(new_cycle_list)
    print("Linked lists generation complete")
    return generated_linked_lists





def execute_bulk_cycle_detect(generated_linked_lists):
    times = []
    print("\nBeining timing cycle detection")
    for linked_list in generated_linked_lists:
        print(f"Processing LinkedList of size: {linked_list.size}")
        times.append(detect_cycle_timed(linked_list))
    print("Cycle detection timing complete")
    return times





new_list = LinkedList()
new_list.generate(size=15)
new_list.print()
print("\nVisualizing linked list:")
new_list.visualize()

new_cycle_list = LinkedList()
new_cycle_list.generate(size = 15, cycle_start_index = 5)
new_cycle_list.print()
print("\nVisualizing linked list with cycle:")
new_cycle_list.visualize()





new_cycle_list2 = LinkedList()
new_cycle_list2.generate(size = 25, cycle_start_index = 10)
detect_cycle(new_cycle_list2, verbose=True)





new_cycle_list3 = LinkedList()
new_cycle_list3.generate(size = 25, cycle_start_index=0)
detect_cycle(new_cycle_list3, verbose=True)





new_cycle_list4 = LinkedList()
new_cycle_list4.generate(size = 20)
detect_cycle(new_cycle_list4, verbose=True)





list_sizes = [10,
             100,
             1000,
             10000,
             100000,
             1000000,
             4000000,
             8000000,
             10000000,
             20000000]

generated_linked_lists = generate_bulk_linked_lists(list_sizes)

times = execute_bulk_cycle_detect(generated_linked_lists)

plot_results(x_values = list_sizes, y_values = times)



